{
 "cells": [
  {
   "cell_type": "code",
   "execution_count": 26,
   "metadata": {},
   "outputs": [],
   "source": [
    "import torch\n",
    "import numpy as np"
   ]
  },
  {
   "cell_type": "code",
   "execution_count": 92,
   "metadata": {},
   "outputs": [
    {
     "data": {
      "text/plain": [
       "True"
      ]
     },
     "execution_count": 92,
     "metadata": {},
     "output_type": "execute_result"
    }
   ],
   "source": [
    "torch.cuda.is_available()"
   ]
  },
  {
   "cell_type": "code",
   "execution_count": 93,
   "metadata": {},
   "outputs": [
    {
     "name": "stdout",
     "output_type": "stream",
     "text": [
      "(5, 4)\n",
      "Actions:  tensor([1, 3, 2, 0, 1])\n",
      "Unsqueze 1-d:  tensor([[1, 3, 2, 0, 1]])\n",
      "Unsqueze 1-d:  tensor([[1],\n",
      "        [3],\n",
      "        [2],\n",
      "        [0],\n",
      "        [1]])\n",
      "Unsqueze 1-d:  tensor([[1],\n",
      "        [3],\n",
      "        [2],\n",
      "        [0],\n",
      "        [1]])\n",
      "********************\n",
      "Indices tensor([[ 1,  2,  3,  4],\n",
      "        [ 3,  2, 34, 12],\n",
      "        [17, 23,  2, 34],\n",
      "        [27,  3,  1,  3],\n",
      "        [ 1,  4,  5,  1]])\n",
      "torch.Size([5, 4])\n",
      "Gather:  tensor([[ 2],\n",
      "        [12],\n",
      "        [ 2],\n",
      "        [27],\n",
      "        [ 4]])\n",
      "Original Array:  tensor([[ 1,  2,  3,  4],\n",
      "        [ 3,  2, 34, 12],\n",
      "        [17, 23,  2, 34],\n",
      "        [27,  3,  1,  3],\n",
      "        [ 1,  4,  5,  1]])\n",
      "Max across dim 1:  tensor([ 4, 34, 34, 27,  5]) argmax:  tensor([3, 2, 3, 0, 2])\n",
      "Max across dim 0:  tensor([27, 23, 34, 34]) argmax:  tensor([3, 2, 1, 2])\n"
     ]
    }
   ],
   "source": [
    "two_dim_array = np.array( [[1,2,3,4],[3,2,34,12], [17,23,2,34], [27,3,1,3], [1,4,5,1]] , dtype=np.int64)\n",
    "\n",
    "print(two_dim_array.shape)\n",
    "\n",
    "actions = torch.LongTensor(np.array([1,3,2,0,1]))\n",
    "\n",
    "print(\"Actions: \", actions)\n",
    "print(\"Unsqueze 1-d: \", actions.unsqueeze(0))\n",
    "print(\"Unsqueze 1-d: \", actions.unsqueeze(1))\n",
    "print(\"Unsqueze 1-d: \", actions.unsqueeze(-1))\n",
    "\n",
    "print(\"**\"*10)\n",
    "indices = torch.LongTensor(two_dim_array)\n",
    "print('Indices', indices)\n",
    "print(indices.shape)\n",
    "\n",
    "# gather is differentiable operation\n",
    "# so will keep gradient as well with respect to final loss value\n",
    "\n",
    "print(\"Gather: \", indices.gather(1, actions.unsqueeze(-1)))\n",
    "\n",
    "print(\"Original Array: \", indices)\n",
    "print(\"Max across dim 1: \", indices.max(1)[0], \"argmax: \", indices.max(1)[1])\n",
    "print(\"Max across dim 0: \", indices.max(0)[0], \"argmax: \", indices.max(0)[1])"
   ]
  }
 ],
 "metadata": {
  "interpreter": {
   "hash": "13027ef6b548d478524874388772865ee1e69188a7bf08a433874e841914c872"
  },
  "kernelspec": {
   "display_name": "Python 3.7.11 ('gpu-pytorch')",
   "language": "python",
   "name": "python3"
  },
  "language_info": {
   "codemirror_mode": {
    "name": "ipython",
    "version": 3
   },
   "file_extension": ".py",
   "mimetype": "text/x-python",
   "name": "python",
   "nbconvert_exporter": "python",
   "pygments_lexer": "ipython3",
   "version": "3.7.11"
  },
  "orig_nbformat": 4
 },
 "nbformat": 4,
 "nbformat_minor": 2
}
