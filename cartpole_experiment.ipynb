{
 "cells": [
  {
   "cell_type": "code",
   "execution_count": 93,
   "metadata": {},
   "outputs": [],
   "source": [
    "import torch\n",
    "import numpy as np \n",
    "from matplotlib import pyplot as plt\n",
    "import gym"
   ]
  },
  {
   "cell_type": "code",
   "execution_count": 94,
   "metadata": {},
   "outputs": [],
   "source": [
    "%matplotlib inline"
   ]
  },
  {
   "cell_type": "code",
   "execution_count": 95,
   "metadata": {},
   "outputs": [
    {
     "data": {
      "text/plain": [
       "<bound method Wrapper.close of <TimeLimit<CartPoleEnv<CartPole-v0>>>>"
      ]
     },
     "execution_count": 95,
     "metadata": {},
     "output_type": "execute_result"
    }
   ],
   "source": [
    "#environment_name = \"MountainCar-v0\"\n",
    "environment_name = 'CartPole-v0'\n",
    "dummy_env = gym.make(environment_name)\n",
    "\n",
    "dummy_env.close\n",
    "#dummy_env.env.get_action_meanings()\n",
    "#help(dummy_env.unwrapped)"
   ]
  },
  {
   "cell_type": "code",
   "execution_count": 96,
   "metadata": {},
   "outputs": [],
   "source": [
    "from typing import NamedTuple,List\n",
    "\n",
    "class EpisodeStep(NamedTuple):\n",
    "    state: any\n",
    "    action: int\n",
    "    reward: float\n",
    "    is_done: bool\n",
    "\n",
    "class ActorCriticWrapper(NamedTuple):\n",
    "    action_tensors: torch.Tensor\n",
    "    log_probs : torch.Tensor\n",
    "    critic_value : torch.Tensor\n",
    "\n",
    "\n",
    "def episode_returns(episode_rewards: List[float]):\n",
    "    # rewards = Sigma gamma**t * reward[t]\n",
    "    gamma = 0.99\n",
    "    discount_factors = np.array([gamma**i  for i in range(len(episode_rewards) )])\n",
    "    returns = np.array([])\n",
    "\n",
    "    for i in range(len(episode_rewards)):\n",
    "        expected_return = np.dot(episode_rewards[i:], discount_factors[: len(episode_rewards) - i])\n",
    "        returns = np.append(returns, expected_return)\n",
    "    return returns\n",
    "\n",
    "\n",
    "def simulate(environment_name: str):\n",
    "    environment = gym.make(environment_name)\n",
    "    #print(\"Action Space: \", environment.action_space)\n",
    "    #print( \"Observation Space: \", environment.observation_space)\n",
    "    return environment"
   ]
  },
  {
   "cell_type": "code",
   "execution_count": 97,
   "metadata": {},
   "outputs": [],
   "source": [
    "from torch import nn\n",
    "from torch.optim.adam import Adam\n",
    "from torch.distributions import Categorical\n",
    "\n",
    "class ActorCriticNetwork(nn.Module):\n",
    "    def __init__(self, input_nodes = 4, hidden_nodes = 128, output_action_nodes = 2):\n",
    "        super(ActorCriticNetwork, self).__init__()\n",
    "\n",
    "        self.input_nodes = input_nodes\n",
    "        self.hidden_nodes = hidden_nodes\n",
    "        self.action_nodes = output_action_nodes\n",
    "        self.value_node = 1\n",
    "\n",
    "        self.actor_network = None\n",
    "\n",
    "        self.common_network = nn.Sequential(\n",
    "            nn.Linear(self.input_nodes, self.hidden_nodes),\n",
    "            nn.ReLU(),\n",
    "        )\n",
    "\n",
    "        self.actor_network = nn.Sequential(\n",
    "            nn.Linear(self.hidden_nodes, self.action_nodes),\n",
    "            nn.Softmax(dim=1)\n",
    "        )\n",
    "\n",
    "        self.critic_network = nn.Sequential(\n",
    "            nn.Linear(self.hidden_nodes, self.value_node)\n",
    "        )\n",
    "\n",
    "    def forward(self, input):\n",
    "        if type(input) == torch.Tensor:\n",
    "            input_tensor = input\n",
    "        elif type(input) == np.ndarray:\n",
    "             input_tensor = torch.from_numpy(input)\n",
    "        else :\n",
    "            input_tensor = torch.Tensor([input])\n",
    "\n",
    "        intermediate = self.common_network.forward(input_tensor)\n",
    "\n",
    "        prob_dist = self.actor_network.forward(intermediate)\n",
    "        action_dist = Categorical(prob_dist)\n",
    "\n",
    "        action_tensors = action_dist.sample()\n",
    "        log_prob_samples = action_dist.log_prob(action_tensors)\n",
    "\n",
    "        critic_value = self.critic_network.forward(intermediate)\n",
    "        return ActorCriticWrapper(action_tensors, log_prob_samples, critic_value=critic_value.squeeze(dim=1))\n"
   ]
  },
  {
   "cell_type": "code",
   "execution_count": 98,
   "metadata": {},
   "outputs": [
    {
     "name": "stdout",
     "output_type": "stream",
     "text": [
      "CartPole-v0\n"
     ]
    }
   ],
   "source": [
    "torch.seed()\n",
    "\n",
    "def compute_actor_critic_network(environment_name: str):\n",
    "    print(environment_name)\n",
    "    if environment_name == \"CartPole-v0\":\n",
    "        return ActorCriticNetwork(4,128,2)\n",
    "    elif environment_name == \"MountainCar-v0\":\n",
    "        return ActorCriticNetwork(2,128,3)\n",
    "    else:\n",
    "        raise ModuleNotFoundError(\"No implementation for other environment.\")\n",
    "\n",
    "ac_model = compute_actor_critic_network(environment_name)\n",
    "#ac_model.forward(np.array([[1,3,4,2],[7,3,8,5]],dtype=np.float32))\n",
    "\n",
    "optimizer = Adam(ac_model.parameters(), lr=0.02, betas=(0.9, 0.99),weight_decay=1e-5)\n",
    "train_env = simulate(environment_name)"
   ]
  },
  {
   "cell_type": "code",
   "execution_count": 99,
   "metadata": {},
   "outputs": [],
   "source": [
    "from torch.optim.adam import Adam\n",
    "from torch.nn.functional import smooth_l1_loss \n",
    "\n",
    "class RewardWithActorCriticWrapper(NamedTuple):\n",
    "    reward: float\n",
    "    wrapper: ActorCriticWrapper\n",
    "\n",
    "def collect_episode(environment: gym.Env, policy: ActorCriticNetwork):\n",
    "    state = environment.reset()\n",
    "\n",
    "    episode : List[RewardWithActorCriticWrapper] = []\n",
    "    episode_reward = 0\n",
    "    while True: \n",
    "        wrapper = policy(torch.Tensor([state]))\n",
    "        action = wrapper.action_tensors.item()\n",
    "        next_state, reward, is_done, _ = environment.step(action)\n",
    "        episode_step = RewardWithActorCriticWrapper(reward, wrapper)\n",
    "        episode_reward += reward\n",
    "        #episode_step = EpisodeStep(state,action,reward,is_done)\n",
    "        episode.append( episode_step )\n",
    "\n",
    "        if is_done:\n",
    "            break\n",
    "\n",
    "        state = next_state\n",
    "    return (episode,episode_reward)\n",
    "\n",
    "def compute_loss(episode: List[RewardWithActorCriticWrapper] ):\n",
    "    expected_discounted_returns = episode_returns( [x.reward for x in episode] )\n",
    "    returns_tensors = torch.Tensor(expected_discounted_returns)\n",
    "    # normalizing the rewards:\n",
    "    returns_tensors = (returns_tensors - returns_tensors.mean()) / (returns_tensors.std() + 1e-08)\n",
    "\n",
    "    log_probs_tensors = torch.stack([ episode_step.wrapper.log_probs.squeeze() for episode_step in episode])\n",
    "    critic_value_tensors = torch.stack([ episode_step.wrapper.critic_value.squeeze() for episode_step in episode])\n",
    "\n",
    "    #print(\"Returns: \", returns_tensors.shape, \"Critics: \", critic_value_tensors.shape)\n",
    "    advantage = returns_tensors - critic_value_tensors\n",
    "    #print(\"Advantage: \", advantage.shape, \"Log probs: \", log_probs_tensors.shape)\n",
    "\n",
    "    action_loss = torch.dot(-log_probs_tensors, advantage)\n",
    "\n",
    "    # we are using sum of critic loss\n",
    "    value_loss = smooth_l1_loss(critic_value_tensors, returns_tensors,reduction='sum')\n",
    "\n",
    "    loss = action_loss + value_loss\n",
    "    \n",
    "        \n",
    "    optimizer.zero_grad()\n",
    "    loss.backward()\n",
    "    optimizer.step()\n",
    "\n",
    "\n",
    "def train_cartpole(start: int = 0, total_episodes: int = 501):\n",
    "\n",
    "    iterations, rewards = [], []\n",
    "\n",
    "    running_episode_reward = 0\n",
    "    alpha = 0.5\n",
    "    for i in range(start,total_episodes):\n",
    "        episode, episode_reward = collect_episode(train_env, ac_model)\n",
    "        iterations.append(i+1)\n",
    "        rewards.append(episode_reward)\n",
    "\n",
    "        running_episode_reward = (1-alpha) * running_episode_reward + alpha * episode_reward\n",
    "\n",
    "        compute_loss(episode)\n",
    "        if(i % 20 == 0):\n",
    "            print(f\"Episode: {i+1}, reward: {episode_reward}, length: {len(episode)}, running_reward: {running_episode_reward}\")\n",
    "\n",
    "    plt.plot(iterations,rewards)"
   ]
  },
  {
   "cell_type": "code",
   "execution_count": 100,
   "metadata": {},
   "outputs": [
    {
     "name": "stdout",
     "output_type": "stream",
     "text": [
      "Episode: 1, reward: 12.0, length: 12, running_reward: 6.0\n",
      "Episode: 21, reward: 10.0, length: 10, running_reward: 11.64404582977295\n",
      "Episode: 41, reward: 10.0, length: 10, running_reward: 10.710792202039556\n",
      "Episode: 61, reward: 12.0, length: 12, running_reward: 11.934618674080088\n",
      "Episode: 81, reward: 34.0, length: 34, running_reward: 25.803297934168505\n",
      "Episode: 101, reward: 13.0, length: 13, running_reward: 12.355974009797986\n",
      "Episode: 121, reward: 26.0, length: 26, running_reward: 21.56242881390954\n",
      "Episode: 141, reward: 37.0, length: 37, running_reward: 33.20176559679872\n",
      "Episode: 161, reward: 108.0, length: 108, running_reward: 100.15713234116134\n",
      "Episode: 181, reward: 59.0, length: 59, running_reward: 61.499658734447806\n",
      "Episode: 201, reward: 200.0, length: 200, running_reward: 199.88013124433397\n",
      "Episode: 221, reward: 101.0, length: 101, running_reward: 126.77326953900456\n",
      "Episode: 241, reward: 156.0, length: 156, running_reward: 153.77437093092874\n",
      "Episode: 261, reward: 200.0, length: 200, running_reward: 199.56605031430334\n",
      "Episode: 281, reward: 141.0, length: 141, running_reward: 150.24999958615334\n"
     ]
    },
    {
     "data": {
      "image/png": "[encoded data removed]",
      "text/plain": [
       "<Figure size 432x288 with 1 Axes>"
      ]
     },
     "metadata": {
      "needs_background": "light"
     },
     "output_type": "display_data"
    }
   ],
   "source": [
    "train_cartpole(0,300)"
   ]
  },
  {
   "cell_type": "code",
   "execution_count": 101,
   "metadata": {},
   "outputs": [
    {
     "name": "stdout",
     "output_type": "stream",
     "text": [
      "Episode: 150, reward: 150.0, length: 150\n",
      "Episode: 300, reward: 300.0, length: 300\n",
      "Episode: 450, reward: 450.0, length: 450\n",
      "Episode: 600, reward: 600.0, length: 600\n",
      "Episode: 750, reward: 750.0, length: 750\n",
      "Episode: 900, reward: 900.0, length: 900\n"
     ]
    },
    {
     "name": "stderr",
     "output_type": "stream",
     "text": [
      "c:\\Users\\Dev2\\anaconda3\\envs\\gpu-pytorch\\lib\\site-packages\\gym\\envs\\classic_control\\cartpole.py:151: UserWarning: \u001b[33mWARN: You are calling 'step()' even though this environment has already returned done = True. You should always call 'reset()' once you receive 'done = True' -- any further steps are undefined behavior.\u001b[0m\n",
      "  \"You are calling 'step()' even though this \"\n"
     ]
    },
    {
     "name": "stdout",
     "output_type": "stream",
     "text": [
      "Episode: 1050, reward: 1049.0, length: 1050\n",
      "Episode: 1200, reward: 1199.0, length: 1200\n",
      "Episode: 1350, reward: 1349.0, length: 1350\n",
      "Episode: 1500, reward: 1495.0, length: 1500\n",
      "Episode: 1650, reward: 1641.0, length: 1650\n",
      "Episode: 1800, reward: 1783.0, length: 1800\n",
      "Episode: 1950, reward: 1929.0, length: 1950\n",
      "Episode: 2100, reward: 2079.0, length: 2100\n",
      "Episode: 2250, reward: 2229.0, length: 2250\n",
      "Episode: 2400, reward: 2379.0, length: 2400\n",
      "Episode: 2550, reward: 2529.0, length: 2550\n",
      "Episode: 2700, reward: 2679.0, length: 2700\n",
      "Episode: 2850, reward: 2829.0, length: 2850\n",
      "Episode: 3000, reward: 2973.0, length: 3000\n",
      "Episode: 3150, reward: 3123.0, length: 3150\n",
      "Episode: 3300, reward: 3273.0, length: 3300\n",
      "Episode: 3450, reward: 3423.0, length: 3450\n",
      "Episode: 3600, reward: 3573.0, length: 3600\n",
      "Episode: 3750, reward: 3723.0, length: 3750\n",
      "Episode: 3900, reward: 3873.0, length: 3900\n",
      "Episode: 4050, reward: 4023.0, length: 4050\n",
      "Episode: 4200, reward: 4173.0, length: 4200\n",
      "Episode: 4350, reward: 4323.0, length: 4350\n",
      "Episode: 4500, reward: 4473.0, length: 4500\n",
      "Episode: 4650, reward: 4623.0, length: 4650\n",
      "Episode: 4800, reward: 4773.0, length: 4800\n",
      "Episode: 4950, reward: 4920.0, length: 4950\n",
      "Episode: 5100, reward: 5070.0, length: 5100\n",
      "Episode: 5250, reward: 5220.0, length: 5250\n",
      "Episode: 5400, reward: 5370.0, length: 5400\n",
      "Episode: 5550, reward: 5520.0, length: 5550\n",
      "Episode: 5700, reward: 5670.0, length: 5700\n",
      "Episode: 5850, reward: 5820.0, length: 5850\n",
      "Episode: 6000, reward: 5970.0, length: 6000\n",
      "Episode: 6150, reward: 6120.0, length: 6150\n",
      "Episode: 6300, reward: 6270.0, length: 6300\n",
      "Episode: 6450, reward: 6420.0, length: 6450\n",
      "Episode: 6600, reward: 6570.0, length: 6600\n",
      "Episode: 6750, reward: 6720.0, length: 6750\n",
      "Episode: 6900, reward: 6870.0, length: 6900\n",
      "Episode: 7050, reward: 7020.0, length: 7050\n",
      "Episode: 7200, reward: 7170.0, length: 7200\n",
      "Episode: 7350, reward: 7320.0, length: 7350\n",
      "Episode: 7500, reward: 7470.0, length: 7500\n",
      "Episode: 7650, reward: 7620.0, length: 7650\n",
      "Episode: 7800, reward: 7770.0, length: 7800\n",
      "Episode: 7950, reward: 7920.0, length: 7950\n",
      "Episode: 8100, reward: 8070.0, length: 8100\n",
      "Episode: 8250, reward: 8220.0, length: 8250\n",
      "Episode: 8400, reward: 8370.0, length: 8400\n",
      "Episode: 8550, reward: 8520.0, length: 8550\n",
      "Episode: 8700, reward: 8670.0, length: 8700\n",
      "Episode: 8850, reward: 8820.0, length: 8850\n",
      "Episode: 9000, reward: 8970.0, length: 9000\n",
      "Episode: 9150, reward: 9120.0, length: 9150\n",
      "Episode: 9300, reward: 9265.0, length: 9300\n",
      "Episode: 9450, reward: 9415.0, length: 9450\n",
      "Episode: 9600, reward: 9565.0, length: 9600\n",
      "Episode: 9750, reward: 9715.0, length: 9750\n",
      "Episode: 9900, reward: 9865.0, length: 9900\n"
     ]
    },
    {
     "data": {
      "image/png": "[encoded data removed]",
      "text/plain": [
       "<Figure size 432x288 with 1 Axes>"
      ]
     },
     "metadata": {
      "needs_background": "light"
     },
     "output_type": "display_data"
    }
   ],
   "source": [
    "def test_cartpole(policy: ActorCriticNetwork):\n",
    "    test_env = gym.make(environment_name)\n",
    "    state = test_env.reset()\n",
    "\n",
    "    episode_count = 0\n",
    "    episode_reward = 0\n",
    "\n",
    "    max_iteration = 10000\n",
    "\n",
    "    is_done = False\n",
    "\n",
    "    iterations, rewards = [], []\n",
    "\n",
    "\n",
    "\n",
    "    while True:\n",
    "        episode_count += 1\n",
    "        if episode_count  > max_iteration:\n",
    "            break\n",
    "\n",
    "        wrapper = policy(torch.Tensor([state]))\n",
    "        action = wrapper.action_tensors.item()\n",
    "\n",
    "        next_state, reward, is_done , _ = test_env.step(action)\n",
    "\n",
    "        episode_reward += reward\n",
    "\n",
    "        iterations.append(episode_count)\n",
    "        rewards.append(episode_reward)\n",
    "\n",
    "        if is_done and episode_count < 200 :\n",
    "            break\n",
    "        \n",
    "        state = next_state\n",
    "\n",
    "        if episode_count % 150 == 0:\n",
    "            print(f\"Episode: {episode_count}, reward: {episode_reward}, length: {episode_count}\")\n",
    "\n",
    "    plt.plot(iterations,rewards)\n",
    "\n",
    "test_cartpole(ac_model)\n",
    "            \n"
   ]
  },
  {
   "cell_type": "code",
   "execution_count": 102,
   "metadata": {},
   "outputs": [
    {
     "name": "stdout",
     "output_type": "stream",
     "text": [
      "Output size:  2\n",
      "Network output:  tensor([[0.4933, 0.5067],\n",
      "        [0.0969, 0.9031]], grad_fn=<SoftmaxBackward0>)\n",
      "Squeeze:  tensor([[0.4933, 0.5067],\n",
      "        [0.0969, 0.9031]], grad_fn=<SqueezeBackward0>)\n",
      "*******\n",
      "Sampling from prob distribution:  tensor([0, 1])\n",
      "?? tensor([[0],\n",
      "        [1]])\n",
      "X tensor([0, 1])\n",
      "Gather:  tensor([[0.4933],\n",
      "        [0.9031]], grad_fn=<GatherBackward0>)\n",
      "Log Sampled:  tensor([[-0.7066],\n",
      "        [-0.1019]], grad_fn=<LogBackward0>)\n",
      "Sampling log prob:  tensor([-0.7066, -0.1019], grad_fn=<SqueezeBackward1>)\n"
     ]
    }
   ],
   "source": [
    "from torch import nn\n",
    "torch.manual_seed(42)\n",
    "#torch.seed()\n",
    "\n",
    "class PolicyNetwork(nn.Module):\n",
    "    def __init__(self, input_nodes: int, hidden_nodes: int, output_nodes: int ):\n",
    "        super(PolicyNetwork, self).__init__()\n",
    "\n",
    "        self.network = nn.Sequential(\n",
    "            nn.Linear(input_nodes, hidden_nodes),\n",
    "            nn.ReLU(),\n",
    "            nn.Linear(hidden_nodes, output_nodes),\n",
    "            nn.ReLU(),\n",
    "            nn.Softmax(dim=1)\n",
    "            #nn.LogSoftmax(dim=1)\n",
    "        )\n",
    "\n",
    "    def forward(self, input):\n",
    "        result = self.network(input)\n",
    "        return result\n",
    "\n",
    "policy_network = PolicyNetwork(4, 128, 2)\n",
    "network_output = policy_network.forward(torch.Tensor([[1,2,3,4], [4,7,9,2]]))\n",
    "\n",
    "print(\"Output size: \", network_output.size(-1) )\n",
    "print(\"Network output: \", network_output )\n",
    "print(\"Squeeze: \",  network_output.squeeze() )\n",
    "print(\"*******\")\n",
    "\n",
    "prob_dist = torch.distributions.Categorical(network_output)\n",
    "sampling_result = prob_dist.sample()\n",
    "\n",
    "print(\"Sampling from prob distribution: \", sampling_result )\n",
    "print(\"??\", sampling_result.unsqueeze(dim=1))\n",
    "\n",
    "z = sampling_result.unsqueeze(dim=1)\n",
    "x = z.squeeze(dim=1)\n",
    "print(\"X\", x)\n",
    "\n",
    "sampled_probs = network_output.gather(1, sampling_result.unsqueeze(dim=1) )\n",
    "print(\"Gather: \", sampled_probs )\n",
    "print(\"Log Sampled: \", torch.log(sampled_probs))\n",
    "\n",
    "log_probs = prob_dist.log_prob(sampling_result)\n",
    "\n",
    "print(\"Sampling log prob: \", log_probs)\n",
    "\n",
    "#network_output.gather(1, torch.LongTensor([[0],[1]]) )"
   ]
  },
  {
   "cell_type": "code",
   "execution_count": null,
   "metadata": {},
   "outputs": [],
   "source": []
  },
  {
   "cell_type": "code",
   "execution_count": null,
   "metadata": {},
   "outputs": [],
   "source": [
    "\n",
    "\n",
    "\n"
   ]
  },
  {
   "cell_type": "code",
   "execution_count": null,
   "metadata": {},
   "outputs": [],
   "source": []
  }
 ],
 "metadata": {
  "kernelspec": {
   "display_name": "Python 3.7.11 ('gpu-pytorch')",
   "language": "python",
   "name": "python3"
  },
  "language_info": {
   "codemirror_mode": {
    "name": "ipython",
    "version": 3
   },
   "file_extension": ".py",
   "mimetype": "text/x-python",
   "name": "python",
   "nbconvert_exporter": "python",
   "pygments_lexer": "ipython3",
   "version": "3.7.11"
  },
  "orig_nbformat": 4,
  "vscode": {
   "interpreter": {
    "hash": "13027ef6b548d478524874388772865ee1e69188a7bf08a433874e841914c872"
   }
  }
 },
 "nbformat": 4,
 "nbformat_minor": 2
}
