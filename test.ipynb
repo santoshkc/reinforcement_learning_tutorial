{
 "cells": [
  {
   "cell_type": "code",
   "execution_count": 2,
   "metadata": {},
   "outputs": [],
   "source": [
    "import torch"
   ]
  },
  {
   "cell_type": "code",
   "execution_count": 3,
   "metadata": {},
   "outputs": [
    {
     "data": {
      "text/plain": [
       "True"
      ]
     },
     "execution_count": 3,
     "metadata": {},
     "output_type": "execute_result"
    }
   ],
   "source": [
    "torch.cuda.is_available()"
   ]
  },
  {
   "cell_type": "code",
   "execution_count": 4,
   "metadata": {},
   "outputs": [
    {
     "data": {
      "text/plain": [
       "tensor([1., 2., 3.])"
      ]
     },
     "execution_count": 4,
     "metadata": {},
     "output_type": "execute_result"
    }
   ],
   "source": [
    "array_tensor = torch.Tensor([1,2,3])\n",
    "array_tensor"
   ]
  },
  {
   "cell_type": "code",
   "execution_count": 5,
   "metadata": {},
   "outputs": [],
   "source": [
    "array_tensor = torch.Tensor([ [1,3,5,20], [1,6,7,210], [2,1,1,8] ])"
   ]
  },
  {
   "cell_type": "code",
   "execution_count": 6,
   "metadata": {},
   "outputs": [
    {
     "data": {
      "text/plain": [
       "(torch.Size([3, 4]),\n",
       " tensor([[  1.,   3.,   5.,  20.],\n",
       "         [  1.,   6.,   7., 210.],\n",
       "         [  2.,   1.,   1.,   8.]]))"
      ]
     },
     "execution_count": 6,
     "metadata": {},
     "output_type": "execute_result"
    }
   ],
   "source": [
    "array_tensor.shape, array_tensor"
   ]
  },
  {
   "cell_type": "code",
   "execution_count": 7,
   "metadata": {},
   "outputs": [
    {
     "name": "stdout",
     "output_type": "stream",
     "text": [
      "Height, Width:  3 4\n",
      "Columns: \n",
      "tensor([1., 1., 2.])\n",
      "tensor([3., 6., 1.])\n",
      "tensor([5., 7., 1.])\n",
      "tensor([ 20., 210.,   8.])\n",
      "Rows: \n",
      "tensor([ 1.,  3.,  5., 20.])\n",
      "tensor([  1.,   6.,   7., 210.])\n",
      "tensor([2., 1., 1., 8.])\n",
      "Indexing: \n",
      "tensor([ 20., 210.,   8.])\n"
     ]
    }
   ],
   "source": [
    "height, width = array_tensor.shape\n",
    "\n",
    "print(\"Height, Width: \", height,width)\n",
    "print(\"Columns: \")\n",
    "\n",
    "for i in range(width):\n",
    "    print(array_tensor[:,i])\n",
    "\n",
    "print(\"Rows: \")\n",
    "for j in range(height):\n",
    "    print( array_tensor[j,:] )\n",
    "\n",
    "print(\"Indexing: \")\n",
    "array_tensor[1:height,1:width]\n",
    "\n",
    "# negative index\n",
    "print(array_tensor[:,-1])\n"
   ]
  },
  {
   "cell_type": "code",
   "execution_count": 8,
   "metadata": {},
   "outputs": [
    {
     "name": "stdout",
     "output_type": "stream",
     "text": [
      "tensor([[-2.2902, -2.4659,  1.1720],\n",
      "        [ 0.2571,  0.8135,  0.4143]])\n"
     ]
    }
   ],
   "source": [
    "a = torch.randn([2,3])\n",
    "print(a)"
   ]
  },
  {
   "cell_type": "code",
   "execution_count": 9,
   "metadata": {},
   "outputs": [
    {
     "name": "stdout",
     "output_type": "stream",
     "text": [
      "torch.Size([2, 3])\n",
      "2\n"
     ]
    }
   ],
   "source": [
    "print(a.size())\n",
    "print(a.dim())"
   ]
  },
  {
   "cell_type": "code",
   "execution_count": 10,
   "metadata": {},
   "outputs": [
    {
     "name": "stdout",
     "output_type": "stream",
     "text": [
      "tensor([[0, 0, 0],\n",
      "        [0, 0, 0],\n",
      "        [0, 0, 0],\n",
      "        [0, 0, 0]], dtype=torch.int16) 4 3 torch.int16 2\n"
     ]
    }
   ],
   "source": [
    "matrix = torch.zeros([4,3],dtype=torch.int16)\n",
    "print(matrix, *matrix.shape, matrix.dtype, matrix.dim(), )"
   ]
  },
  {
   "cell_type": "code",
   "execution_count": 11,
   "metadata": {},
   "outputs": [
    {
     "data": {
      "text/plain": [
       "tensor([[  0,   0, 202],\n",
       "        [  0,   0,   0],\n",
       "        [  0,   0,   0],\n",
       "        [  0,  10,   0]], dtype=torch.int16)"
      ]
     },
     "execution_count": 11,
     "metadata": {},
     "output_type": "execute_result"
    }
   ],
   "source": [
    "matrix.shape\n",
    "matrix[0,2] = 202\n",
    "matrix[3,1] = 10\n",
    "matrix[3,2] = 0\n",
    "matrix"
   ]
  },
  {
   "cell_type": "code",
   "execution_count": 12,
   "metadata": {},
   "outputs": [],
   "source": [
    "import numpy as np"
   ]
  },
  {
   "cell_type": "code",
   "execution_count": 13,
   "metadata": {},
   "outputs": [
    {
     "name": "stdout",
     "output_type": "stream",
     "text": [
      "[  1 101   3  10]\n",
      "tensor([  1, 101,   3,  10], dtype=torch.int32)\n",
      "[  1 101   3  10]\n",
      "torch.Size([4])\n",
      "tensor([[  1, 101],\n",
      "        [  3,  10]], dtype=torch.int32)\n",
      "tensor([[  2, 101],\n",
      "        [  6,  10]], dtype=torch.int32)\n",
      "After reshape and modification: tensor_from_np_array =  tensor([  2, 101,   6,  10], dtype=torch.int32)\n",
      "After reshape and modification:np_array =   [  2 101   6  10]\n",
      "Copied array:  [ 1  2  3 10]\n",
      "Copied tensor:  tensor([])\n"
     ]
    }
   ],
   "source": [
    "np_array = np.array([1,2,3,10])\n",
    "copy_array = np.copy(np_array)\n",
    "np_array.shape\n",
    "\n",
    "np_tensor = torch.from_numpy(np_array)\n",
    "\n",
    "copy_tensor = torch.Tensor()\n",
    "#copy_tensor = torch._copy_from(np_tensor, copy_tensor,True)\n",
    "\n",
    "np_array[1] = 101\n",
    "np_tensor.shape, np_tensor.dim(), np_tensor.size()\n",
    "\n",
    "print(np_array)\n",
    "print(np_tensor)\n",
    "alias_np = np_tensor.numpy()\n",
    "\n",
    "print(alias_np)\n",
    "reshaped_tensor = np_tensor.reshape((2,2))\n",
    "print(np_tensor.shape)\n",
    "print(reshaped_tensor)\n",
    "\n",
    "reshaped_tensor[:,0] = reshaped_tensor[:,0] * 2\n",
    "print(reshaped_tensor)\n",
    "\n",
    "print(\"After reshape and modification: tensor_from_np_array = \", np_tensor)\n",
    "print(\"After reshape and modification:np_array =  \", np_array)\n",
    "\n",
    "print(\"Copied array: \", copy_array)\n",
    "print(\"Copied tensor: \", copy_tensor)\n"
   ]
  },
  {
   "cell_type": "code",
   "execution_count": 14,
   "metadata": {},
   "outputs": [
    {
     "name": "stdout",
     "output_type": "stream",
     "text": [
      "torch.Size([10])\n",
      "After reshape: \n",
      "tensor([ 0,  2,  4,  6,  8, 10, 12, 14, 16, 18])\n",
      "tensor([[ 0,  2,  4,  6,  8],\n",
      "        [10, 12, 14, 16, 18]])\n"
     ]
    }
   ],
   "source": [
    "one_dim_tensor = torch.arange(0,19,2)\n",
    "print(one_dim_tensor.shape)\n",
    "two_dim_tensor = one_dim_tensor.reshape(2,5)\n",
    "\n",
    "print(\"After reshape: \")\n",
    "print(one_dim_tensor)\n",
    "print(two_dim_tensor)"
   ]
  },
  {
   "cell_type": "code",
   "execution_count": 15,
   "metadata": {},
   "outputs": [],
   "source": [
    "import torch\n",
    "import torchvision"
   ]
  },
  {
   "cell_type": "code",
   "execution_count": 16,
   "metadata": {},
   "outputs": [],
   "source": [
    "import numpy as np \n",
    "import matplotlib.pyplot as plt \n",
    "EPOCH = 10 \n",
    "BATCH_SIZE= 64"
   ]
  },
  {
   "cell_type": "code",
   "execution_count": 17,
   "metadata": {},
   "outputs": [],
   "source": [
    "xy_trainPT = torchvision.datasets.MNIST(root='./data', \n",
    "             train=True, download=True,transform=\n",
    "             torchvision.transforms.Compose(\n",
    "             [torchvision.transforms.ToTensor()]))\n",
    "             \n",
    "xy_trainPT_loader = torch.utils.data.DataLoader(\n",
    "    xy_trainPT, batch_size=BATCH_SIZE)"
   ]
  },
  {
   "cell_type": "code",
   "execution_count": 18,
   "metadata": {},
   "outputs": [
    {
     "data": {
      "image/png": "[encoded data removed]",
      "text/plain": [
       "<Figure size 1800x288 with 20 Axes>"
      ]
     },
     "metadata": {},
     "output_type": "display_data"
    }
   ],
   "source": [
    "fig = plt.figure(figsize=(25, 4)) \n",
    "for idx in np.arange(20):\n",
    "   image, label = xy_trainPT[idx]\n",
    "   #print(label,image.shape)\n",
    "   ax = fig.add_subplot(2, 20//2, idx+1, xticks=[], yticks=[])\n",
    "   \n",
    "   hello = torch.squeeze(image,dim=0)\n",
    "   #hello = image[0,:,:]\n",
    "   #print(hello.shape)\n",
    "\n",
    "   ax.imshow(torch.squeeze(image, dim = 0).numpy(), \n",
    "             cmap=plt.cm.binary)\n",
    "   ax.set_title(str(label))"
   ]
  },
  {
   "cell_type": "code",
   "execution_count": 19,
   "metadata": {},
   "outputs": [
    {
     "name": "stdout",
     "output_type": "stream",
     "text": [
      "torch.Size([1, 28, 28])\n",
      "torch.Size([1, 784])\n"
     ]
    }
   ],
   "source": [
    "# image,label = xy_trainPT[0]\n",
    "# print( type(image), type(label) )\n",
    "\n",
    "# print(image.shape, image.size())\n",
    "\n",
    "# print(image.shape[0], image.shape[1], image.shape[2] )\n",
    "\n",
    "# dummy = torch.Tensor([[ [1,2,3], [9,6,1], [2,3,5] ]])\n",
    "# print(dummy)\n",
    "# print(dummy.shape)\n",
    "# x = dummy.view(dummy.shape[0], -1)\n",
    "# print(x,x.shape)\n",
    "\n",
    "# converts (1,28,28) into (1, 28*28)\n",
    "image, _ = xy_trainPT[0] \n",
    "print(image.size())\n",
    "image_flatten = image.view(image.shape[0], -1)\n",
    "print (image_flatten.size())"
   ]
  },
  {
   "cell_type": "code",
   "execution_count": 20,
   "metadata": {},
   "outputs": [],
   "source": [
    "modelPT = torch.nn.Sequential(\n",
    "    torch.nn.Linear(784,10),\n",
    "    torch.nn.Sigmoid(),\n",
    "    torch.nn.Linear(10,10),\n",
    "    torch.nn.LogSoftmax(dim=1)\n",
    ")\n",
    "\n",
    "# modelPT= torch.nn.Sequential(            \n",
    "#          torch.nn.Linear(784,10),\n",
    "#          torch.nn.Sigmoid(), \n",
    "#          torch.nn.Linear(10,10), \n",
    "#          torch.nn.LogSoftmax(dim=1) \n",
    "#          )"
   ]
  },
  {
   "cell_type": "code",
   "execution_count": 21,
   "metadata": {},
   "outputs": [
    {
     "name": "stdout",
     "output_type": "stream",
     "text": [
      "Epoch 0 - Training loss: 2.2132511077913395\n",
      "Epoch 1 - Training loss: 1.9652295383308995\n",
      "Epoch 2 - Training loss: 1.660677997415254\n",
      "Epoch 3 - Training loss: 1.3897665683140379\n",
      "Epoch 4 - Training loss: 1.182152321788548\n",
      "Epoch 5 - Training loss: 1.0288850171987944\n",
      "Epoch 6 - Training loss: 0.9141660760333543\n",
      "Epoch 7 - Training loss: 0.8257133342119168\n",
      "Epoch 8 - Training loss: 0.7556303644548855\n",
      "Epoch 9 - Training loss: 0.6989652108409004\n"
     ]
    }
   ],
   "source": [
    "criteria = torch.nn.NLLLoss()\n",
    "optimizer = torch.optim.SGD(modelPT.parameters(), lr=0.01)\n",
    "optimizer.zero_grad()\n",
    "\n",
    "for epoch in range(EPOCH):\n",
    "    running_loss = 0\n",
    "    for images, labels in xy_trainPT_loader:\n",
    "        #print(images.shape, labels.shape)\n",
    "\n",
    "        images = images.view(images.shape[0],-1)\n",
    "        #print(images.shape)\n",
    "        output = modelPT(images)\n",
    "        loss = criteria(output,labels)\n",
    "        loss.backward()\n",
    "\n",
    "        optimizer.step()\n",
    "        optimizer.zero_grad()\n",
    "\n",
    "        running_loss += loss.item()\n",
    "    print(f\"Epoch {epoch} - Training loss: {running_loss/len(xy_trainPT_loader)}\")\n",
    "        \n",
    "\n",
    "        #print( output[0,:], labels[0] )\n",
    "        #y = criteria(output[0,:],labels[0])\n",
    "        #print(\"y\", y)\n",
    "        #print(output[0:5,0:10])\n",
    "        #print(\"Op: \", output.shape)\n",
    "        #print(output[0,:])\n",
    "\n",
    "# 1: for e in range(EPOCHS):\n",
    "#       running_loss = 0\n",
    "# 2:    for images, labels in xy_trainPT_loader:\n",
    "# 3:        images = images.view(images.shape[0], -1)\n",
    "# 4:        output = modelPT(images)\n",
    "# 5:        loss = criterion(output, labels)\n",
    "# 6:        loss.backward()\n",
    "# 7:        optimizer.step()\n",
    "# 8:        optimizer.zero_grad()\n",
    "#           running_loss += loss.item()\n",
    "#       print(“Epoch {} — Training loss: {}”.format(e, \n",
    "#              running_loss/len(xy_trainPT_loader)))"
   ]
  },
  {
   "cell_type": "code",
   "execution_count": 26,
   "metadata": {},
   "outputs": [
    {
     "name": "stdout",
     "output_type": "stream",
     "text": [
      "\n",
      "Accuracy of the model = 0.8639\n"
     ]
    }
   ],
   "source": [
    "xy_testPT = torchvision.datasets.MNIST(root='./data', \n",
    "            train=False, download=True, \n",
    "            transform=torchvision.transforms.\n",
    "            Compose([torchvision.transforms.ToTensor()]))\n",
    "xy_test_loaderPT = torch.utils.data.DataLoader(xy_testPT)\n",
    "correct_count, all_count = 0, 0\n",
    "for images,labels in xy_test_loaderPT:\n",
    "  for i in range(len(labels)):\n",
    "    img = images[i].view(1, 784)\n",
    "    logps = modelPT(img)\n",
    "    ps = torch.exp(logps)\n",
    "    probab = list(ps.detach().numpy()[0])\n",
    "    pred_label = probab.index(max(probab))\n",
    "    true_label = labels.numpy()[i]\n",
    "    if(true_label == pred_label):\n",
    "        correct_count += 1\n",
    "    all_count += 1\n",
    "print(\"\\nAccuracy of the model =\", (correct_count/all_count))   "
   ]
  },
  {
   "cell_type": "code",
   "execution_count": null,
   "metadata": {},
   "outputs": [],
   "source": []
  }
 ],
 "metadata": {
  "interpreter": {
   "hash": "13027ef6b548d478524874388772865ee1e69188a7bf08a433874e841914c872"
  },
  "kernelspec": {
   "display_name": "Python 3.7.11 ('gpu-pytorch')",
   "language": "python",
   "name": "python3"
  },
  "language_info": {
   "codemirror_mode": {
    "name": "ipython",
    "version": 3
   },
   "file_extension": ".py",
   "mimetype": "text/x-python",
   "name": "python",
   "nbconvert_exporter": "python",
   "pygments_lexer": "ipython3",
   "version": "3.7.11"
  },
  "orig_nbformat": 4
 },
 "nbformat": 4,
 "nbformat_minor": 2
}
